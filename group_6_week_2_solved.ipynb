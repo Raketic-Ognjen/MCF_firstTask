{
  "nbformat": 4,
  "nbformat_minor": 0,
  "metadata": {
    "colab": {
      "provenance": [],
      "include_colab_link": true
    },
    "kernelspec": {
      "display_name": "Python 3",
      "language": "python",
      "name": "python3"
    },
    "language_info": {
      "codemirror_mode": {
        "name": "ipython",
        "version": 3
      },
      "file_extension": ".py",
      "mimetype": "text/x-python",
      "name": "python",
      "nbconvert_exporter": "python",
      "pygments_lexer": "ipython3",
      "version": "3.7.4"
    }
  },
  "cells": [
    {
      "cell_type": "markdown",
      "metadata": {
        "id": "view-in-github",
        "colab_type": "text"
      },
      "source": [
        "<a href=\"https://colab.research.google.com/github/Raketic-Ognjen/MCF_firstTask/blob/master/group_6_week_2_solved.ipynb\" target=\"_parent\"><img src=\"https://colab.research.google.com/assets/colab-badge.svg\" alt=\"Open In Colab\"/></a>"
      ]
    },
    {
      "cell_type": "markdown",
      "metadata": {
        "id": "a-s3OxZP8hb0"
      },
      "source": [
        "<font color='MediumBlue ' style=\"font-size:40px\"><center><b>Problem Set Week 2</b></center></font>"
      ]
    },
    {
      "cell_type": "markdown",
      "metadata": {
        "id": "xJFjxhtv87RW"
      },
      "source": [
        "<font color='MediumBlue ' style=\"font-size:40px\"><center><b>If you want us to check you work, submit it by Wed, Dec 14th at 9am</b></center></font>"
      ]
    },
    {
      "cell_type": "markdown",
      "metadata": {
        "id": "N_I8VWPH8hb4"
      },
      "source": [
        "<div style=\"border:2px solid Gray;\"><b><i>Instructions</i></b>: Problems are supposed to be worked in the assigned groups. Write the solution in the provided Google Colab notebook. Each Notebook should have the group name and the Week as its name. So, the name of the notebook for the second homework of the group 3 should be\n",
        "\n",
        "**Group_3_Week_2.ipynb**\n",
        "\n",
        "Submit one homework per group only! Post it in the Google Directory that we have allocated for your group for the homeworks in Bootcamp. You can also work on the file in the same google drive director. \n",
        "\n",
        "Try to solve as many questions as you can and please play around and experiment. This is not a competition and you are not going to be issued a grade for this. If you do not know how to do something or you make mistake, do not worry, just try to figure out later how to do things. \n",
        "\n",
        "If you submit it by the deadline we shall make sure to check and give you feedback. The feedback will be written in the same file that you leave in your Google Drive for the group.\n",
        "\n",
        "You can use any resources available to you, other than collaborating with other groups. In particular, you are encouraged to use the Internet resources (to try to google the hints from thousands of users around the world) and, of course, you should use the lecture notes. \n",
        "\n",
        "If you are an experienced programmer, make sure that less experienced programmers get to do as much as they can and to help them to learn. The same for the economists - help out your noneconomist friends learn related to concepts they may not know once thee need for that arises. Once you are done submit (one file per group). Above all, have fun!</div>"
      ]
    },
    {
      "cell_type": "markdown",
      "metadata": {
        "id": "XOn0x3Ki8hb6"
      },
      "source": [
        "<font color='Red'><center><b>Ognjen Raketic </b></center></font>"
      ]
    },
    {
      "cell_type": "markdown",
      "metadata": {
        "id": "nWJVI5L5iuHa"
      },
      "source": [
        "## <font color='IndianRed'>Problem 1</font>"
      ]
    },
    {
      "cell_type": "markdown",
      "metadata": {
        "id": "sqVL15smsnoW"
      },
      "source": [
        "Using the for loop and the <font color='DodgerBlue'><b>print<b></font> funtion, print out one below the other all of the cash flows from the list *cf_a* below."
      ]
    },
    {
      "cell_type": "code",
      "execution_count": null,
      "metadata": {
        "id": "NZsq7t7coilw"
      },
      "outputs": [],
      "source": [
        "cf_a = [-1000, 300, 400, 500]"
      ]
    },
    {
      "cell_type": "markdown",
      "metadata": {
        "id": "Yc1-Nk0NszJL"
      },
      "source": [
        "### Solution"
      ]
    },
    {
      "cell_type": "code",
      "execution_count": null,
      "metadata": {
        "id": "vV4y5l9Ao6Es",
        "colab": {
          "base_uri": "https://localhost:8080/"
        },
        "outputId": "c7c56296-b4dc-4183-c7a6-f5d400618602"
      },
      "outputs": [
        {
          "output_type": "stream",
          "name": "stdout",
          "text": [
            "-1000\n",
            "300\n",
            "400\n",
            "500\n"
          ]
        }
      ],
      "source": [
        "for i in range(len(cf_a)):\n",
        "  print(cf_a[i])"
      ]
    },
    {
      "cell_type": "markdown",
      "metadata": {
        "id": "9pzlyAjfiuHc"
      },
      "source": [
        "## <font color='IndianRed'>Problem 2</font>"
      ]
    },
    {
      "cell_type": "markdown",
      "metadata": {
        "id": "k57OZ0tOtOp9"
      },
      "source": [
        "Suppose you have decided to invest in project A from previous problem with the cash flows in list *cf_a* by franchising it 3 times. Using the list comprehension (see lecture notes) create the new cash flows of the franchised (i.e. tripled) project. Name the created list *cf3*."
      ]
    },
    {
      "cell_type": "markdown",
      "metadata": {
        "id": "FNoeCPT3toaX"
      },
      "source": [
        "### Solution"
      ]
    },
    {
      "cell_type": "code",
      "execution_count": null,
      "metadata": {
        "id": "hhX9cfhApdMc",
        "colab": {
          "base_uri": "https://localhost:8080/"
        },
        "outputId": "2d8aa695-c844-4ef4-91c4-79102260bb77"
      },
      "outputs": [
        {
          "output_type": "stream",
          "name": "stdout",
          "text": [
            "[-3000, 900, 1200, 1500]\n"
          ]
        }
      ],
      "source": [
        "import numpy as np\n",
        "\n",
        "project_a = cf_a\n",
        "\n",
        "project_3 = list(np.array(project_a)*3)\n",
        "\n",
        "cf3 = project_3\n",
        "\n",
        "print(project_3)"
      ]
    },
    {
      "cell_type": "markdown",
      "metadata": {
        "id": "X1eou-TqiuHd"
      },
      "source": [
        "## <font color='IndianRed'>Problem 3</font>"
      ]
    },
    {
      "cell_type": "markdown",
      "metadata": {
        "id": "mgs82lrFiuHd"
      },
      "source": [
        "Some additional costs have arisen so your initial investment turned out to be 3050 dollars for all 3 franchises. Replace the old cash flow from list *cf3* with the new one."
      ]
    },
    {
      "cell_type": "markdown",
      "metadata": {
        "id": "1QeOs_z3iuHe"
      },
      "source": [
        "### Solution"
      ]
    },
    {
      "cell_type": "code",
      "execution_count": null,
      "metadata": {
        "id": "qMAgeRIUiuHe",
        "colab": {
          "base_uri": "https://localhost:8080/"
        },
        "outputId": "170022de-150e-4566-860e-f18a2b209965"
      },
      "outputs": [
        {
          "output_type": "stream",
          "name": "stdout",
          "text": [
            "[-3000, 900, 1200, 1500]\n",
            "[-3050, 900, 1200, 1500]\n"
          ]
        }
      ],
      "source": [
        "print(cf3)\n",
        "cf3[0] = -3050\n",
        "print(cf3)"
      ]
    },
    {
      "cell_type": "markdown",
      "metadata": {
        "id": "ntRTvxKUiuHe"
      },
      "source": [
        "## <font color='IndianRed'>Problem 4</font>"
      ]
    },
    {
      "cell_type": "markdown",
      "metadata": {
        "id": "qfsDoEXiiuHe"
      },
      "source": [
        "Additional cost from previous problem has generated one additional cash flow of 240 dollars which appear in year 4. Add this new cash flow in list *cf3*."
      ]
    },
    {
      "cell_type": "markdown",
      "metadata": {
        "id": "Yoj4n6zHiuHe"
      },
      "source": [
        "### Solution"
      ]
    },
    {
      "cell_type": "code",
      "execution_count": null,
      "metadata": {
        "id": "M81Hnq64iuHe",
        "colab": {
          "base_uri": "https://localhost:8080/"
        },
        "outputId": "c6be04b7-c5d1-45f2-ca57-4c970c1bd110"
      },
      "outputs": [
        {
          "output_type": "stream",
          "name": "stdout",
          "text": [
            "[-3050, 900, 1200, 1500, 240]\n"
          ]
        }
      ],
      "source": [
        "cf3.append(240) #Or we can do it by cf3.insert(4,240)\n",
        "print(cf3)\n"
      ]
    },
    {
      "cell_type": "markdown",
      "metadata": {
        "id": "gXSat8z7iuHf"
      },
      "source": [
        "## <font color='IndianRed'>Problem 5</font><a id='5'></a>"
      ]
    },
    {
      "cell_type": "markdown",
      "metadata": {
        "id": "4wlraWDwtw1d"
      },
      "source": [
        "Recall from the class that:"
      ]
    },
    {
      "cell_type": "markdown",
      "metadata": {
        "id": "gWBD_91SiuHf"
      },
      "source": [
        "i=1\n",
        "<br><font color='Green'><b>while</b></font> i<=4:\n",
        "<br>$\\hspace{5mm}$ <font color='DodgerBlue'><b>print<b></font>(i, i**2)\n",
        "<br>$\\hspace{5mm}$ i +=1 "
      ]
    },
    {
      "cell_type": "markdown",
      "metadata": {
        "id": "vovt46r6t2Ha"
      },
      "source": [
        "Using a **while loop** print out of the cumulative sum of cash flows of the project A (i.e. use cash flows from list *cf_a* not *cf3*) along with the year in which they appear. By cumulative cash flow we mean that the in output you need to see:\n",
        "* only initial investment (i.e. $-1000$) in year 0, \n",
        "* at year one output would be $-1000+300 = -700$,\n",
        "* at year 2 output would be $-1000 +300+400 = -300$ etc. \n",
        "\n",
        "Final output should be printed pairs: (year, cum_cash_flow)."
      ]
    },
    {
      "cell_type": "markdown",
      "metadata": {
        "id": "8Def9_V-uai_"
      },
      "source": [
        "### Solution"
      ]
    },
    {
      "cell_type": "code",
      "execution_count": null,
      "metadata": {
        "id": "XZWEJsQIrE6U",
        "colab": {
          "base_uri": "https://localhost:8080/"
        },
        "outputId": "7960eb87-f44c-47cf-c2f1-4e3b7d882835"
      },
      "outputs": [
        {
          "output_type": "stream",
          "name": "stdout",
          "text": [
            "1 -1000\n",
            "2 -700\n",
            "3 -300\n",
            "4 200\n"
          ]
        }
      ],
      "source": [
        "cf_a = [-1000, 300, 400, 500]\n",
        "\n",
        "cum_cash_flow = 0\n",
        "year = 0\n",
        "\n",
        "while year <= (len(cf_a)-1):\n",
        "      cum_cash_flow += cf_a[year]\n",
        "      year += 1\n",
        "      print(year, cum_cash_flow)"
      ]
    }
  ]
}